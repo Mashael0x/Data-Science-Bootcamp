{
  "nbformat": 4,
  "nbformat_minor": 0,
  "metadata": {
    "colab": {
      "name": "Week7_Monte_Carlo_Birthday_Problem.ipynb",
      "provenance": [],
      "collapsed_sections": [],
      "include_colab_link": true
    },
    "kernelspec": {
      "name": "python3",
      "display_name": "Python 3"
    }
  },
  "cells": [
    {
      "cell_type": "markdown",
      "metadata": {
        "id": "view-in-github",
        "colab_type": "text"
      },
      "source": [
        "<a href=\"https://colab.research.google.com/github/Mashael0x/Data-Science-Bootcamp/blob/main/Week7_Monte_Carlo_Birthday_Problem.ipynb\" target=\"_parent\"><img src=\"https://colab.research.google.com/assets/colab-badge.svg\" alt=\"Open In Colab\"/></a>"
      ]
    },
    {
      "cell_type": "markdown",
      "metadata": {
        "id": "rnj0wuNtHt8E"
      },
      "source": [
        "##Project P5\n",
        "\n",
        "**There is a famous problem in statistics that concerns a room full of people: Same Birthday!**\n",
        "\n",
        "An instructor offers a prize of $20.00 to anyone who thinks that two people in the room have the same birthday.\n",
        "\n",
        "Your assignment is to build a Monte Carlo simulation to tell the instructor how many people need to be in the room to give him/her a better than 50% chance of winning the $20.\n",
        "\n",
        "That is to say how many people need to be in a room in order for the probability of two of them having the same birthday is greater than 50%. Do the same for 95% and 99%."
      ]
    },
    {
      "cell_type": "code",
      "metadata": {
        "id": "DMsZcPSI8Hhw"
      },
      "source": [
        ""
      ],
      "execution_count": null,
      "outputs": []
    },
    {
      "cell_type": "markdown",
      "metadata": {
        "id": "wzE-XVyZ6Rcc"
      },
      "source": [
        "**Group members:**\\\r\n",
        "Nada Alzahrani\\\r\n",
        "Mashael Alsaeed\\\r\n",
        "Shaima Aljahani\\\r\n",
        "Bedoor Alharbi\r\n"
      ]
    },
    {
      "cell_type": "code",
      "metadata": {
        "id": "yrzJvKsEHhda"
      },
      "source": [
        "import numpy as np\r\n",
        "import random\r\n",
        "import pandas as pd"
      ],
      "execution_count": 3,
      "outputs": []
    },
    {
      "cell_type": "code",
      "metadata": {
        "id": "Og5IlcBIH-J0"
      },
      "source": [
        "# Create funtion to run simulations\n",
        "def simulation(percent):\n",
        "  people = 5000\n",
        "  # set up variable for storing matches\n",
        "  matches = 0\n",
        "  # make an array to hold the outcome (1 for match, 0 for no match)\n",
        "  list_out = np.array([0 for i in range(0 , 366)])\n",
        "  num_of_people = 0\n",
        "\n",
        "  for p in range(people):\n",
        "    # give each person a birthday\n",
        "    for person in range(people):\n",
        "      # 365 days in the year\n",
        "      day = random.randint(1, 365)\n",
        "      # if someone else already has this birthday\n",
        "      if day in list_out:\n",
        "        # we have a match\n",
        "        matches += 1\n",
        "        # end the trial\n",
        "        break\n",
        "    # show that this day is taken\n",
        "    list_out[day] = 1\n",
        "    cal_percentage = (matches/people) * 100\n",
        "    if cal_percentage > percent:\n",
        "      num_of_people = matches\n",
        "      pair_result = [num_of_people , cal_percentage]\n",
        "      break\n",
        "\n",
        "  print(\"Number Of People: \", num_of_people , \" out of \" , people)\n",
        "  print(\"The chance of winning %.2f\" % cal_percentage)\n",
        "\n",
        "  return pair_result"
      ],
      "execution_count": 7,
      "outputs": []
    },
    {
      "cell_type": "code",
      "metadata": {
        "id": "sfvmgj26IA6o",
        "colab": {
          "base_uri": "https://localhost:8080/"
        },
        "outputId": "9ec99257-e0c5-44f3-a648-922fcd4ec3aa"
      },
      "source": [
        "# Run simulations\r\n",
        "list1 = simulation(0.50)\r\n",
        "print(\"__________________\")\r\n",
        "list2 = simulation(0.95)\r\n",
        "print(\"__________________\")\r\n",
        "list3 = simulation(0.99)"
      ],
      "execution_count": 8,
      "outputs": [
        {
          "output_type": "stream",
          "text": [
            "Number Of People:  26  out of  5000\n",
            "The chance of winning 0.52\n",
            "__________________\n",
            "Number Of People:  48  out of  5000\n",
            "The chance of winning 0.96\n",
            "__________________\n",
            "Number Of People:  50  out of  5000\n",
            "The chance of winning 1.00\n"
          ],
          "name": "stdout"
        }
      ]
    },
    {
      "cell_type": "code",
      "metadata": {
        "id": "lzPJHmdaICpW",
        "colab": {
          "base_uri": "https://localhost:8080/",
          "height": 142
        },
        "outputId": "7cd9b207-98c4-4584-8019-a47a44558342"
      },
      "source": [
        "# Communicate results\r\n",
        "df_results = pd.DataFrame(np.array([list1 , list2 , list3]))\r\n",
        "df_results.columns = [\"People\" , \"Percent\"]\r\n",
        "df_results"
      ],
      "execution_count": 9,
      "outputs": [
        {
          "output_type": "execute_result",
          "data": {
            "text/html": [
              "<div>\n",
              "<style scoped>\n",
              "    .dataframe tbody tr th:only-of-type {\n",
              "        vertical-align: middle;\n",
              "    }\n",
              "\n",
              "    .dataframe tbody tr th {\n",
              "        vertical-align: top;\n",
              "    }\n",
              "\n",
              "    .dataframe thead th {\n",
              "        text-align: right;\n",
              "    }\n",
              "</style>\n",
              "<table border=\"1\" class=\"dataframe\">\n",
              "  <thead>\n",
              "    <tr style=\"text-align: right;\">\n",
              "      <th></th>\n",
              "      <th>People</th>\n",
              "      <th>Percent</th>\n",
              "    </tr>\n",
              "  </thead>\n",
              "  <tbody>\n",
              "    <tr>\n",
              "      <th>0</th>\n",
              "      <td>26.0</td>\n",
              "      <td>0.52</td>\n",
              "    </tr>\n",
              "    <tr>\n",
              "      <th>1</th>\n",
              "      <td>48.0</td>\n",
              "      <td>0.96</td>\n",
              "    </tr>\n",
              "    <tr>\n",
              "      <th>2</th>\n",
              "      <td>50.0</td>\n",
              "      <td>1.00</td>\n",
              "    </tr>\n",
              "  </tbody>\n",
              "</table>\n",
              "</div>"
            ],
            "text/plain": [
              "   People  Percent\n",
              "0    26.0     0.52\n",
              "1    48.0     0.96\n",
              "2    50.0     1.00"
            ]
          },
          "metadata": {
            "tags": []
          },
          "execution_count": 9
        }
      ]
    }
  ]
}
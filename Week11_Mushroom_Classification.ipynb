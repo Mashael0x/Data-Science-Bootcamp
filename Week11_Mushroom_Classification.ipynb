{
  "nbformat": 4,
  "nbformat_minor": 0,
  "metadata": {
    "colab": {
      "name": "Week11_Mushroom_Classification.ipynb",
      "provenance": [],
      "collapsed_sections": [],
      "include_colab_link": true
    },
    "kernelspec": {
      "name": "python3",
      "display_name": "Python 3"
    }
  },
  "cells": [
    {
      "cell_type": "markdown",
      "metadata": {
        "id": "view-in-github",
        "colab_type": "text"
      },
      "source": [
        "<a href=\"https://colab.research.google.com/github/Mashael0x/Data-Science-Bootcamp/blob/main/Week11_Mushroom_Classification.ipynb\" target=\"_parent\"><img src=\"https://colab.research.google.com/assets/colab-badge.svg\" alt=\"Open In Colab\"/></a>"
      ]
    },
    {
      "cell_type": "code",
      "metadata": {
        "id": "xz74QuFttDIC"
      },
      "source": [
        "# Import what you need\n",
        "import pandas as pd"
      ],
      "execution_count": null,
      "outputs": []
    },
    {
      "cell_type": "markdown",
      "metadata": {
        "id": "KPmlUa8eu9_f"
      },
      "source": [
        "#### - Your target column is called `target`, this dataset is used for classification.\n",
        "\n",
        "#### - Use what you have learned over the last two weeks to create a model that correctly predicts whether a mushroom is poisonous or edible.\n",
        "\n",
        "#### - The data has already been loaded for you\n",
        "\n",
        "[Data Source](https://archive.ics.uci.edu/ml/datasets/Mushroom)"
      ]
    },
    {
      "cell_type": "code",
      "metadata": {
        "colab": {
          "base_uri": "https://localhost:8080/"
        },
        "id": "VgL934agttDB",
        "outputId": "81daf1ed-5b67-451e-8ccf-b16e3edc0d4f"
      },
      "source": [
        "# Data Dictionary\n",
        "!curl \"https://archive.ics.uci.edu/ml/machine-learning-databases/mushroom/agaricus-lepiota.names\""
      ],
      "execution_count": null,
      "outputs": [
        {
          "output_type": "stream",
          "text": [
            "1. Title: Mushroom Database\n",
            "\n",
            "2. Sources: \n",
            "    (a) Mushroom records drawn from The Audubon Society Field Guide to North\n",
            "        American Mushrooms (1981). G. H. Lincoff (Pres.), New York: Alfred\n",
            "        A. Knopf\n",
            "    (b) Donor: Jeff Schlimmer (Jeffrey.Schlimmer@a.gp.cs.cmu.edu)\n",
            "    (c) Date: 27 April 1987\n",
            "\n",
            "3. Past Usage:\n",
            "    1. Schlimmer,J.S. (1987). Concept Acquisition Through Representational\n",
            "       Adjustment (Technical Report 87-19).  Doctoral disseration, Department\n",
            "       of Information and Computer Science, University of California, Irvine.\n",
            "       --- STAGGER: asymptoted to 95% classification accuracy after reviewing\n",
            "           1000 instances.\n",
            "    2. Iba,W., Wogulis,J., & Langley,P. (1988).  Trading off Simplicity\n",
            "       and Coverage in Incremental Concept Learning. In Proceedings of \n",
            "       the 5th International Conference on Machine Learning, 73-79.\n",
            "       Ann Arbor, Michigan: Morgan Kaufmann.  \n",
            "       -- approximately the same results with their HILLARY algorithm    \n",
            "    3. In the following references a set of rules (given below) were\n",
            "\tlearned for this data set which may serve as a point of\n",
            "\tcomparison for other researchers.\n",
            "\n",
            "\tDuch W, Adamczak R, Grabczewski K (1996) Extraction of logical rules\n",
            "\tfrom training data using backpropagation networks, in: Proc. of the\n",
            "\tThe 1st Online Workshop on Soft Computing, 19-30.Aug.1996, pp. 25-30,\n",
            "\tavailable on-line at: http://www.bioele.nuee.nagoya-u.ac.jp/wsc1/\n",
            "\n",
            "\tDuch W, Adamczak R, Grabczewski K, Ishikawa M, Ueda H, Extraction of\n",
            "\tcrisp logical rules using constrained backpropagation networks -\n",
            "\tcomparison of two new approaches, in: Proc. of the European Symposium\n",
            "\ton Artificial Neural Networks (ESANN'97), Bruge, Belgium 16-18.4.1997,\n",
            "\tpp. xx-xx\n",
            "\n",
            "\tWlodzislaw Duch, Department of Computer Methods, Nicholas Copernicus\n",
            "\tUniversity, 87-100 Torun, Grudziadzka 5, Poland\n",
            "\te-mail: duch@phys.uni.torun.pl\n",
            "\tWWW     http://www.phys.uni.torun.pl/kmk/\n",
            "\t\n",
            "\tDate: Mon, 17 Feb 1997 13:47:40 +0100\n",
            "\tFrom: Wlodzislaw Duch <duch@phys.uni.torun.pl>\n",
            "\tOrganization: Dept. of Computer Methods, UMK\n",
            "\n",
            "\tI have attached a file containing logical rules for mushrooms.\n",
            "\tIt should be helpful for other people since only in the last year I\n",
            "\thave seen about 10 papers analyzing this dataset and obtaining quite\n",
            "\tcomplex rules. We will try to contribute other results later.\n",
            "\n",
            "\tWith best regards, Wlodek Duch\n",
            "\t________________________________________________________________\n",
            "\n",
            "\tLogical rules for the mushroom data sets.\n",
            "\n",
            "\tLogical rules given below seem to be the simplest possible for the\n",
            "\tmushroom dataset and therefore should be treated as benchmark results.\n",
            "\n",
            "\tDisjunctive rules for poisonous mushrooms, from most general\n",
            "\tto most specific:\n",
            "\n",
            "\tP_1) odor=NOT(almond.OR.anise.OR.none)\n",
            "\t     120 poisonous cases missed, 98.52% accuracy\n",
            "\n",
            "\tP_2) spore-print-color=green\n",
            "\t     48 cases missed, 99.41% accuracy\n",
            "         \n",
            "\tP_3) odor=none.AND.stalk-surface-below-ring=scaly.AND.\n",
            "\t          (stalk-color-above-ring=NOT.brown) \n",
            "\t     8 cases missed, 99.90% accuracy\n",
            "         \n",
            "\tP_4) habitat=leaves.AND.cap-color=white\n",
            "\t         100% accuracy     \n",
            "\n",
            "\tRule P_4) may also be\n",
            "\n",
            "\tP_4') population=clustered.AND.cap_color=white\n",
            "\n",
            "\tThese rule involve 6 attributes (out of 22). Rules for edible\n",
            "\tmushrooms are obtained as negation of the rules given above, for\n",
            "\texample the rule:\n",
            "\n",
            "\todor=(almond.OR.anise.OR.none).AND.spore-print-color=NOT.green\n",
            "\n",
            "\tgives 48 errors, or 99.41% accuracy on the whole dataset.\n",
            "\n",
            "\tSeveral slightly more complex variations on these rules exist,\n",
            "\tinvolving other attributes, such as gill_size, gill_spacing,\n",
            "\tstalk_surface_above_ring, but the rules given above are the simplest\n",
            "\twe have found.\n",
            "\n",
            "\n",
            "4. Relevant Information:\n",
            "    This data set includes descriptions of hypothetical samples\n",
            "    corresponding to 23 species of gilled mushrooms in the Agaricus and\n",
            "    Lepiota Family (pp. 500-525).  Each species is identified as\n",
            "    definitely edible, definitely poisonous, or of unknown edibility and\n",
            "    not recommended.  This latter class was combined with the poisonous\n",
            "    one.  The Guide clearly states that there is no simple rule for\n",
            "    determining the edibility of a mushroom; no rule like ``leaflets\n",
            "    three, let it be'' for Poisonous Oak and Ivy.\n",
            "\n",
            "5. Number of Instances: 8124\n",
            "\n",
            "6. Number of Attributes: 22 (all nominally valued)\n",
            "\n",
            "7. Attribute Information: (classes: edible=e, poisonous=p)\n",
            "     1. cap-shape:                bell=b,conical=c,convex=x,flat=f,\n",
            "                                  knobbed=k,sunken=s\n",
            "     2. cap-surface:              fibrous=f,grooves=g,scaly=y,smooth=s\n",
            "     3. cap-color:                brown=n,buff=b,cinnamon=c,gray=g,green=r,\n",
            "                                  pink=p,purple=u,red=e,white=w,yellow=y\n",
            "     4. bruises?:                 bruises=t,no=f\n",
            "     5. odor:                     almond=a,anise=l,creosote=c,fishy=y,foul=f,\n",
            "                                  musty=m,none=n,pungent=p,spicy=s\n",
            "     6. gill-attachment:          attached=a,descending=d,free=f,notched=n\n",
            "     7. gill-spacing:             close=c,crowded=w,distant=d\n",
            "     8. gill-size:                broad=b,narrow=n\n",
            "     9. gill-color:               black=k,brown=n,buff=b,chocolate=h,gray=g,\n",
            "                                  green=r,orange=o,pink=p,purple=u,red=e,\n",
            "                                  white=w,yellow=y\n",
            "    10. stalk-shape:              enlarging=e,tapering=t\n",
            "    11. stalk-root:               bulbous=b,club=c,cup=u,equal=e,\n",
            "                                  rhizomorphs=z,rooted=r,missing=?\n",
            "    12. stalk-surface-above-ring: fibrous=f,scaly=y,silky=k,smooth=s\n",
            "    13. stalk-surface-below-ring: fibrous=f,scaly=y,silky=k,smooth=s\n",
            "    14. stalk-color-above-ring:   brown=n,buff=b,cinnamon=c,gray=g,orange=o,\n",
            "                                  pink=p,red=e,white=w,yellow=y\n",
            "    15. stalk-color-below-ring:   brown=n,buff=b,cinnamon=c,gray=g,orange=o,\n",
            "                                  pink=p,red=e,white=w,yellow=y\n",
            "    16. veil-type:                partial=p,universal=u\n",
            "    17. veil-color:               brown=n,orange=o,white=w,yellow=y\n",
            "    18. ring-number:              none=n,one=o,two=t\n",
            "    19. ring-type:                cobwebby=c,evanescent=e,flaring=f,large=l,\n",
            "                                  none=n,pendant=p,sheathing=s,zone=z\n",
            "    20. spore-print-color:        black=k,brown=n,buff=b,chocolate=h,green=r,\n",
            "                                  orange=o,purple=u,white=w,yellow=y\n",
            "    21. population:               abundant=a,clustered=c,numerous=n,\n",
            "                                  scattered=s,several=v,solitary=y\n",
            "    22. habitat:                  grasses=g,leaves=l,meadows=m,paths=p,\n",
            "                                  urban=u,waste=w,woods=d\n",
            "\n",
            "8. Missing Attribute Values: 2480 of them (denoted by \"?\"), all for\n",
            "   attribute #11.\n",
            "\n",
            "9. Class Distribution: \n",
            "    --    edible: 4208 (51.8%)\n",
            "    -- poisonous: 3916 (48.2%)\n",
            "    --     total: 8124 instances\n"
          ],
          "name": "stdout"
        }
      ]
    },
    {
      "cell_type": "code",
      "metadata": {
        "colab": {
          "base_uri": "https://localhost:8080/",
          "height": 255
        },
        "id": "DYK1Edu8tMij",
        "outputId": "1b1d5075-83a8-451e-b806-4903359e9b9b"
      },
      "source": [
        "col_names=[\"target\", \"cap_shape\",\"cap_surface\", \"cap_color\", \"bruises\", \"odor\", \"gill-attachment\", \"gill_spacing\", \"gill_size\", \"gill_color\", \"stalk_shape\", \"stalk_root\", \"stalk_surface_above_ring\", \"stalk_surface-below_ring\", \"stalk_color_above_ring\", \"stalk_color_below_ring\", \"veil_type\", \"veil_color\", \"ring_number\", \"ring_type\", \"spore_print_color\", \"population\", \"habitat\"]\n",
        "mushroom_data = pd.read_csv(\"https://archive.ics.uci.edu/ml/machine-learning-databases/mushroom/agaricus-lepiota.data\", names=col_names)\n",
        "print(f\"Mushroom Data Shape: {mushroom_data.shape}\")\n",
        "mushroom_data.head()"
      ],
      "execution_count": null,
      "outputs": [
        {
          "output_type": "stream",
          "text": [
            "Mushroom Data Shape: (8124, 23)\n"
          ],
          "name": "stdout"
        },
        {
          "output_type": "execute_result",
          "data": {
            "text/html": [
              "<div>\n",
              "<style scoped>\n",
              "    .dataframe tbody tr th:only-of-type {\n",
              "        vertical-align: middle;\n",
              "    }\n",
              "\n",
              "    .dataframe tbody tr th {\n",
              "        vertical-align: top;\n",
              "    }\n",
              "\n",
              "    .dataframe thead th {\n",
              "        text-align: right;\n",
              "    }\n",
              "</style>\n",
              "<table border=\"1\" class=\"dataframe\">\n",
              "  <thead>\n",
              "    <tr style=\"text-align: right;\">\n",
              "      <th></th>\n",
              "      <th>target</th>\n",
              "      <th>cap_shape</th>\n",
              "      <th>cap_surface</th>\n",
              "      <th>cap_color</th>\n",
              "      <th>bruises</th>\n",
              "      <th>odor</th>\n",
              "      <th>gill-attachment</th>\n",
              "      <th>gill_spacing</th>\n",
              "      <th>gill_size</th>\n",
              "      <th>gill_color</th>\n",
              "      <th>stalk_shape</th>\n",
              "      <th>stalk_root</th>\n",
              "      <th>stalk_surface_above_ring</th>\n",
              "      <th>stalk_surface-below_ring</th>\n",
              "      <th>stalk_color_above_ring</th>\n",
              "      <th>stalk_color_below_ring</th>\n",
              "      <th>veil_type</th>\n",
              "      <th>veil_color</th>\n",
              "      <th>ring_number</th>\n",
              "      <th>ring_type</th>\n",
              "      <th>spore_print_color</th>\n",
              "      <th>population</th>\n",
              "      <th>habitat</th>\n",
              "    </tr>\n",
              "  </thead>\n",
              "  <tbody>\n",
              "    <tr>\n",
              "      <th>0</th>\n",
              "      <td>p</td>\n",
              "      <td>x</td>\n",
              "      <td>s</td>\n",
              "      <td>n</td>\n",
              "      <td>t</td>\n",
              "      <td>p</td>\n",
              "      <td>f</td>\n",
              "      <td>c</td>\n",
              "      <td>n</td>\n",
              "      <td>k</td>\n",
              "      <td>e</td>\n",
              "      <td>e</td>\n",
              "      <td>s</td>\n",
              "      <td>s</td>\n",
              "      <td>w</td>\n",
              "      <td>w</td>\n",
              "      <td>p</td>\n",
              "      <td>w</td>\n",
              "      <td>o</td>\n",
              "      <td>p</td>\n",
              "      <td>k</td>\n",
              "      <td>s</td>\n",
              "      <td>u</td>\n",
              "    </tr>\n",
              "    <tr>\n",
              "      <th>1</th>\n",
              "      <td>e</td>\n",
              "      <td>x</td>\n",
              "      <td>s</td>\n",
              "      <td>y</td>\n",
              "      <td>t</td>\n",
              "      <td>a</td>\n",
              "      <td>f</td>\n",
              "      <td>c</td>\n",
              "      <td>b</td>\n",
              "      <td>k</td>\n",
              "      <td>e</td>\n",
              "      <td>c</td>\n",
              "      <td>s</td>\n",
              "      <td>s</td>\n",
              "      <td>w</td>\n",
              "      <td>w</td>\n",
              "      <td>p</td>\n",
              "      <td>w</td>\n",
              "      <td>o</td>\n",
              "      <td>p</td>\n",
              "      <td>n</td>\n",
              "      <td>n</td>\n",
              "      <td>g</td>\n",
              "    </tr>\n",
              "    <tr>\n",
              "      <th>2</th>\n",
              "      <td>e</td>\n",
              "      <td>b</td>\n",
              "      <td>s</td>\n",
              "      <td>w</td>\n",
              "      <td>t</td>\n",
              "      <td>l</td>\n",
              "      <td>f</td>\n",
              "      <td>c</td>\n",
              "      <td>b</td>\n",
              "      <td>n</td>\n",
              "      <td>e</td>\n",
              "      <td>c</td>\n",
              "      <td>s</td>\n",
              "      <td>s</td>\n",
              "      <td>w</td>\n",
              "      <td>w</td>\n",
              "      <td>p</td>\n",
              "      <td>w</td>\n",
              "      <td>o</td>\n",
              "      <td>p</td>\n",
              "      <td>n</td>\n",
              "      <td>n</td>\n",
              "      <td>m</td>\n",
              "    </tr>\n",
              "    <tr>\n",
              "      <th>3</th>\n",
              "      <td>p</td>\n",
              "      <td>x</td>\n",
              "      <td>y</td>\n",
              "      <td>w</td>\n",
              "      <td>t</td>\n",
              "      <td>p</td>\n",
              "      <td>f</td>\n",
              "      <td>c</td>\n",
              "      <td>n</td>\n",
              "      <td>n</td>\n",
              "      <td>e</td>\n",
              "      <td>e</td>\n",
              "      <td>s</td>\n",
              "      <td>s</td>\n",
              "      <td>w</td>\n",
              "      <td>w</td>\n",
              "      <td>p</td>\n",
              "      <td>w</td>\n",
              "      <td>o</td>\n",
              "      <td>p</td>\n",
              "      <td>k</td>\n",
              "      <td>s</td>\n",
              "      <td>u</td>\n",
              "    </tr>\n",
              "    <tr>\n",
              "      <th>4</th>\n",
              "      <td>e</td>\n",
              "      <td>x</td>\n",
              "      <td>s</td>\n",
              "      <td>g</td>\n",
              "      <td>f</td>\n",
              "      <td>n</td>\n",
              "      <td>f</td>\n",
              "      <td>w</td>\n",
              "      <td>b</td>\n",
              "      <td>k</td>\n",
              "      <td>t</td>\n",
              "      <td>e</td>\n",
              "      <td>s</td>\n",
              "      <td>s</td>\n",
              "      <td>w</td>\n",
              "      <td>w</td>\n",
              "      <td>p</td>\n",
              "      <td>w</td>\n",
              "      <td>o</td>\n",
              "      <td>e</td>\n",
              "      <td>n</td>\n",
              "      <td>a</td>\n",
              "      <td>g</td>\n",
              "    </tr>\n",
              "  </tbody>\n",
              "</table>\n",
              "</div>"
            ],
            "text/plain": [
              "  target cap_shape cap_surface  ... spore_print_color population habitat\n",
              "0      p         x           s  ...                 k          s       u\n",
              "1      e         x           s  ...                 n          n       g\n",
              "2      e         b           s  ...                 n          n       m\n",
              "3      p         x           y  ...                 k          s       u\n",
              "4      e         x           s  ...                 n          a       g\n",
              "\n",
              "[5 rows x 23 columns]"
            ]
          },
          "metadata": {
            "tags": []
          },
          "execution_count": 26
        }
      ]
    },
    {
      "cell_type": "code",
      "metadata": {
        "id": "Mo8YSx6_w-pB",
        "colab": {
          "base_uri": "https://localhost:8080/"
        },
        "outputId": "069462b0-c625-4b13-f713-560a62f4c229"
      },
      "source": [
        "mushroom_data.isnull().sum()"
      ],
      "execution_count": null,
      "outputs": [
        {
          "output_type": "execute_result",
          "data": {
            "text/plain": [
              "target                      0\n",
              "cap_shape                   0\n",
              "cap_surface                 0\n",
              "cap_color                   0\n",
              "bruises                     0\n",
              "odor                        0\n",
              "gill-attachment             0\n",
              "gill_spacing                0\n",
              "gill_size                   0\n",
              "gill_color                  0\n",
              "stalk_shape                 0\n",
              "stalk_root                  0\n",
              "stalk_surface_above_ring    0\n",
              "stalk_surface-below_ring    0\n",
              "stalk_color_above_ring      0\n",
              "stalk_color_below_ring      0\n",
              "veil_type                   0\n",
              "veil_color                  0\n",
              "ring_number                 0\n",
              "ring_type                   0\n",
              "spore_print_color           0\n",
              "population                  0\n",
              "habitat                     0\n",
              "dtype: int64"
            ]
          },
          "metadata": {
            "tags": []
          },
          "execution_count": 27
        }
      ]
    },
    {
      "cell_type": "markdown",
      "metadata": {
        "id": "_D5Pd1iHfb0J"
      },
      "source": [
        "**there is a clear relationship between odor and target**"
      ]
    },
    {
      "cell_type": "code",
      "metadata": {
        "colab": {
          "base_uri": "https://localhost:8080/",
          "height": 383
        },
        "id": "WBDLLPAte4WQ",
        "outputId": "158a1da5-c7ad-4ac5-d72b-788cbe76a557"
      },
      "source": [
        "import seaborn as sns\r\n",
        "\r\n",
        "sns.catplot(x= 'odor', col = 'target', kind = 'count', order = mushroom_data['odor'].value_counts().index , data = mushroom_data, palette = 'Set2');"
      ],
      "execution_count": null,
      "outputs": [
        {
          "output_type": "display_data",
          "data": {
            "image/png": "[encoded data removed]",
            "text/plain": [
              "<Figure size 720x360 with 2 Axes>"
            ]
          },
          "metadata": {
            "tags": [],
            "needs_background": "light"
          }
        }
      ]
    },
    {
      "cell_type": "markdown",
      "metadata": {
        "id": "MyIsKxOwgIsK"
      },
      "source": [
        "**cap-color is not a strong indicator if mushroom is poisunus or edible**"
      ]
    },
    {
      "cell_type": "code",
      "metadata": {
        "colab": {
          "base_uri": "https://localhost:8080/",
          "height": 384
        },
        "id": "SGpUyHKTe4Y8",
        "outputId": "a7bf3d32-66fc-4336-cfb1-6d46b6fd6a3b"
      },
      "source": [
        "sns.catplot(x= 'cap_color', col = 'target', kind = 'count', order = mushroom_data['cap_color'].value_counts().index , data = mushroom_data, palette = 'Set2');"
      ],
      "execution_count": null,
      "outputs": [
        {
          "output_type": "display_data",
          "data": {
            "image/png": "[encoded data removed]",
            "text/plain": [
              "<Figure size 720x360 with 2 Axes>"
            ]
          },
          "metadata": {
            "tags": [],
            "needs_background": "light"
          }
        }
      ]
    },
    {
      "cell_type": "code",
      "metadata": {
        "colab": {
          "base_uri": "https://localhost:8080/",
          "height": 384
        },
        "id": "ycwPrW84gDGc",
        "outputId": "1526b223-c431-47b7-bb54-56b48847dc0a"
      },
      "source": [
        "sns.catplot(x= 'gill_color', col = 'target', kind = 'count', order = mushroom_data['gill_color'].value_counts().index , data = mushroom_data, palette = 'Set2');"
      ],
      "execution_count": null,
      "outputs": [
        {
          "output_type": "display_data",
          "data": {
            "image/png": "[encoded data removed]",
            "text/plain": [
              "<Figure size 720x360 with 2 Axes>"
            ]
          },
          "metadata": {
            "tags": [],
            "needs_background": "light"
          }
        }
      ]
    },
    {
      "cell_type": "code",
      "metadata": {
        "colab": {
          "base_uri": "https://localhost:8080/",
          "height": 208
        },
        "id": "rPXt3j6fJ5vs",
        "outputId": "9f52236f-f022-495e-dde7-d237b43e3b35"
      },
      "source": [
        "mushroom_data.describe()"
      ],
      "execution_count": null,
      "outputs": [
        {
          "output_type": "execute_result",
          "data": {
            "text/html": [
              "<div>\n",
              "<style scoped>\n",
              "    .dataframe tbody tr th:only-of-type {\n",
              "        vertical-align: middle;\n",
              "    }\n",
              "\n",
              "    .dataframe tbody tr th {\n",
              "        vertical-align: top;\n",
              "    }\n",
              "\n",
              "    .dataframe thead th {\n",
              "        text-align: right;\n",
              "    }\n",
              "</style>\n",
              "<table border=\"1\" class=\"dataframe\">\n",
              "  <thead>\n",
              "    <tr style=\"text-align: right;\">\n",
              "      <th></th>\n",
              "      <th>target</th>\n",
              "      <th>cap_shape</th>\n",
              "      <th>cap_surface</th>\n",
              "      <th>cap_color</th>\n",
              "      <th>bruises</th>\n",
              "      <th>odor</th>\n",
              "      <th>gill-attachment</th>\n",
              "      <th>gill_spacing</th>\n",
              "      <th>gill_size</th>\n",
              "      <th>gill_color</th>\n",
              "      <th>stalk_shape</th>\n",
              "      <th>stalk_root</th>\n",
              "      <th>stalk_surface_above_ring</th>\n",
              "      <th>stalk_surface-below_ring</th>\n",
              "      <th>stalk_color_above_ring</th>\n",
              "      <th>stalk_color_below_ring</th>\n",
              "      <th>veil_type</th>\n",
              "      <th>veil_color</th>\n",
              "      <th>ring_number</th>\n",
              "      <th>ring_type</th>\n",
              "      <th>spore_print_color</th>\n",
              "      <th>population</th>\n",
              "      <th>habitat</th>\n",
              "    </tr>\n",
              "  </thead>\n",
              "  <tbody>\n",
              "    <tr>\n",
              "      <th>count</th>\n",
              "      <td>8124</td>\n",
              "      <td>8124</td>\n",
              "      <td>8124</td>\n",
              "      <td>8124</td>\n",
              "      <td>8124</td>\n",
              "      <td>8124</td>\n",
              "      <td>8124</td>\n",
              "      <td>8124</td>\n",
              "      <td>8124</td>\n",
              "      <td>8124</td>\n",
              "      <td>8124</td>\n",
              "      <td>8124</td>\n",
              "      <td>8124</td>\n",
              "      <td>8124</td>\n",
              "      <td>8124</td>\n",
              "      <td>8124</td>\n",
              "      <td>8124</td>\n",
              "      <td>8124</td>\n",
              "      <td>8124</td>\n",
              "      <td>8124</td>\n",
              "      <td>8124</td>\n",
              "      <td>8124</td>\n",
              "      <td>8124</td>\n",
              "    </tr>\n",
              "    <tr>\n",
              "      <th>unique</th>\n",
              "      <td>2</td>\n",
              "      <td>6</td>\n",
              "      <td>4</td>\n",
              "      <td>10</td>\n",
              "      <td>2</td>\n",
              "      <td>9</td>\n",
              "      <td>2</td>\n",
              "      <td>2</td>\n",
              "      <td>2</td>\n",
              "      <td>12</td>\n",
              "      <td>2</td>\n",
              "      <td>5</td>\n",
              "      <td>4</td>\n",
              "      <td>4</td>\n",
              "      <td>9</td>\n",
              "      <td>9</td>\n",
              "      <td>1</td>\n",
              "      <td>4</td>\n",
              "      <td>3</td>\n",
              "      <td>5</td>\n",
              "      <td>9</td>\n",
              "      <td>6</td>\n",
              "      <td>7</td>\n",
              "    </tr>\n",
              "    <tr>\n",
              "      <th>top</th>\n",
              "      <td>e</td>\n",
              "      <td>x</td>\n",
              "      <td>y</td>\n",
              "      <td>n</td>\n",
              "      <td>f</td>\n",
              "      <td>n</td>\n",
              "      <td>f</td>\n",
              "      <td>c</td>\n",
              "      <td>b</td>\n",
              "      <td>b</td>\n",
              "      <td>t</td>\n",
              "      <td>b</td>\n",
              "      <td>s</td>\n",
              "      <td>s</td>\n",
              "      <td>w</td>\n",
              "      <td>w</td>\n",
              "      <td>p</td>\n",
              "      <td>w</td>\n",
              "      <td>o</td>\n",
              "      <td>p</td>\n",
              "      <td>w</td>\n",
              "      <td>v</td>\n",
              "      <td>d</td>\n",
              "    </tr>\n",
              "    <tr>\n",
              "      <th>freq</th>\n",
              "      <td>4208</td>\n",
              "      <td>3656</td>\n",
              "      <td>3244</td>\n",
              "      <td>2284</td>\n",
              "      <td>4748</td>\n",
              "      <td>3528</td>\n",
              "      <td>7914</td>\n",
              "      <td>6812</td>\n",
              "      <td>5612</td>\n",
              "      <td>1728</td>\n",
              "      <td>4608</td>\n",
              "      <td>3776</td>\n",
              "      <td>5176</td>\n",
              "      <td>4936</td>\n",
              "      <td>4464</td>\n",
              "      <td>4384</td>\n",
              "      <td>8124</td>\n",
              "      <td>7924</td>\n",
              "      <td>7488</td>\n",
              "      <td>3968</td>\n",
              "      <td>2388</td>\n",
              "      <td>4040</td>\n",
              "      <td>3148</td>\n",
              "    </tr>\n",
              "  </tbody>\n",
              "</table>\n",
              "</div>"
            ],
            "text/plain": [
              "       target cap_shape cap_surface  ... spore_print_color population habitat\n",
              "count    8124      8124        8124  ...              8124       8124    8124\n",
              "unique      2         6           4  ...                 9          6       7\n",
              "top         e         x           y  ...                 w          v       d\n",
              "freq     4208      3656        3244  ...              2388       4040    3148\n",
              "\n",
              "[4 rows x 23 columns]"
            ]
          },
          "metadata": {
            "tags": []
          },
          "execution_count": 28
        }
      ]
    },
    {
      "cell_type": "markdown",
      "metadata": {
        "id": "Sv1XKVi9LUKO"
      },
      "source": [
        "**I will select features that has high variation for my model**"
      ]
    },
    {
      "cell_type": "code",
      "metadata": {
        "id": "eBLdu5-TJ5yB"
      },
      "source": [
        "selected_features = ['cap_shape','cap_color','odor','gill_color','stalk_color_above_ring','stalk_color_below_ring','spore_print_color','population','habitat']"
      ],
      "execution_count": null,
      "outputs": []
    },
    {
      "cell_type": "code",
      "metadata": {
        "id": "YBwQo8hsJ52b"
      },
      "source": [
        "from sklearn.model_selection import train_test_split\r\n",
        "from sklearn.metrics import *\r\n",
        "from sklearn.preprocessing import LabelEncoder"
      ],
      "execution_count": null,
      "outputs": []
    },
    {
      "cell_type": "code",
      "metadata": {
        "id": "zMZqf4GhKcQw"
      },
      "source": [
        "x = mushroom_data[selected_features]\r\n",
        "x = pd.get_dummies(x)\r\n",
        "y = mushroom_data.target\r\n",
        "le = LabelEncoder()\r\n",
        "\r\n",
        "y = le.fit_transform(y)"
      ],
      "execution_count": null,
      "outputs": []
    },
    {
      "cell_type": "code",
      "metadata": {
        "id": "hh09pjRmKcVK"
      },
      "source": [
        "x_train, x_test, y_train, y_test = train_test_split(x, y, train_size = 0.7)"
      ],
      "execution_count": null,
      "outputs": []
    },
    {
      "cell_type": "code",
      "metadata": {
        "colab": {
          "base_uri": "https://localhost:8080/",
          "height": 221
        },
        "id": "Y58E9rcIKcZN",
        "outputId": "4b439ef7-76ef-4cc8-dabd-5b58ee90ef7c"
      },
      "source": [
        "x_train.head()"
      ],
      "execution_count": null,
      "outputs": [
        {
          "output_type": "execute_result",
          "data": {
            "text/html": [
              "<div>\n",
              "<style scoped>\n",
              "    .dataframe tbody tr th:only-of-type {\n",
              "        vertical-align: middle;\n",
              "    }\n",
              "\n",
              "    .dataframe tbody tr th {\n",
              "        vertical-align: top;\n",
              "    }\n",
              "\n",
              "    .dataframe thead th {\n",
              "        text-align: right;\n",
              "    }\n",
              "</style>\n",
              "<table border=\"1\" class=\"dataframe\">\n",
              "  <thead>\n",
              "    <tr style=\"text-align: right;\">\n",
              "      <th></th>\n",
              "      <th>cap_shape_b</th>\n",
              "      <th>cap_shape_c</th>\n",
              "      <th>cap_shape_f</th>\n",
              "      <th>cap_shape_k</th>\n",
              "      <th>cap_shape_s</th>\n",
              "      <th>cap_shape_x</th>\n",
              "      <th>cap_color_b</th>\n",
              "      <th>cap_color_c</th>\n",
              "      <th>cap_color_e</th>\n",
              "      <th>cap_color_g</th>\n",
              "      <th>cap_color_n</th>\n",
              "      <th>cap_color_p</th>\n",
              "      <th>cap_color_r</th>\n",
              "      <th>cap_color_u</th>\n",
              "      <th>cap_color_w</th>\n",
              "      <th>cap_color_y</th>\n",
              "      <th>odor_a</th>\n",
              "      <th>odor_c</th>\n",
              "      <th>odor_f</th>\n",
              "      <th>odor_l</th>\n",
              "      <th>odor_m</th>\n",
              "      <th>odor_n</th>\n",
              "      <th>odor_p</th>\n",
              "      <th>odor_s</th>\n",
              "      <th>odor_y</th>\n",
              "      <th>gill_color_b</th>\n",
              "      <th>gill_color_e</th>\n",
              "      <th>gill_color_g</th>\n",
              "      <th>gill_color_h</th>\n",
              "      <th>gill_color_k</th>\n",
              "      <th>gill_color_n</th>\n",
              "      <th>gill_color_o</th>\n",
              "      <th>gill_color_p</th>\n",
              "      <th>gill_color_r</th>\n",
              "      <th>gill_color_u</th>\n",
              "      <th>gill_color_w</th>\n",
              "      <th>gill_color_y</th>\n",
              "      <th>stalk_color_above_ring_b</th>\n",
              "      <th>stalk_color_above_ring_c</th>\n",
              "      <th>stalk_color_above_ring_e</th>\n",
              "      <th>stalk_color_above_ring_g</th>\n",
              "      <th>stalk_color_above_ring_n</th>\n",
              "      <th>stalk_color_above_ring_o</th>\n",
              "      <th>stalk_color_above_ring_p</th>\n",
              "      <th>stalk_color_above_ring_w</th>\n",
              "      <th>stalk_color_above_ring_y</th>\n",
              "      <th>stalk_color_below_ring_b</th>\n",
              "      <th>stalk_color_below_ring_c</th>\n",
              "      <th>stalk_color_below_ring_e</th>\n",
              "      <th>stalk_color_below_ring_g</th>\n",
              "      <th>stalk_color_below_ring_n</th>\n",
              "      <th>stalk_color_below_ring_o</th>\n",
              "      <th>stalk_color_below_ring_p</th>\n",
              "      <th>stalk_color_below_ring_w</th>\n",
              "      <th>stalk_color_below_ring_y</th>\n",
              "      <th>spore_print_color_b</th>\n",
              "      <th>spore_print_color_h</th>\n",
              "      <th>spore_print_color_k</th>\n",
              "      <th>spore_print_color_n</th>\n",
              "      <th>spore_print_color_o</th>\n",
              "      <th>spore_print_color_r</th>\n",
              "      <th>spore_print_color_u</th>\n",
              "      <th>spore_print_color_w</th>\n",
              "      <th>spore_print_color_y</th>\n",
              "      <th>population_a</th>\n",
              "      <th>population_c</th>\n",
              "      <th>population_n</th>\n",
              "      <th>population_s</th>\n",
              "      <th>population_v</th>\n",
              "      <th>population_y</th>\n",
              "      <th>habitat_d</th>\n",
              "      <th>habitat_g</th>\n",
              "      <th>habitat_l</th>\n",
              "      <th>habitat_m</th>\n",
              "      <th>habitat_p</th>\n",
              "      <th>habitat_u</th>\n",
              "      <th>habitat_w</th>\n",
              "    </tr>\n",
              "  </thead>\n",
              "  <tbody>\n",
              "    <tr>\n",
              "      <th>1138</th>\n",
              "      <td>0</td>\n",
              "      <td>0</td>\n",
              "      <td>1</td>\n",
              "      <td>0</td>\n",
              "      <td>0</td>\n",
              "      <td>0</td>\n",
              "      <td>0</td>\n",
              "      <td>0</td>\n",
              "      <td>0</td>\n",
              "      <td>0</td>\n",
              "      <td>0</td>\n",
              "      <td>0</td>\n",
              "      <td>0</td>\n",
              "      <td>0</td>\n",
              "      <td>1</td>\n",
              "      <td>0</td>\n",
              "      <td>0</td>\n",
              "      <td>0</td>\n",
              "      <td>0</td>\n",
              "      <td>0</td>\n",
              "      <td>0</td>\n",
              "      <td>1</td>\n",
              "      <td>0</td>\n",
              "      <td>0</td>\n",
              "      <td>0</td>\n",
              "      <td>0</td>\n",
              "      <td>0</td>\n",
              "      <td>0</td>\n",
              "      <td>1</td>\n",
              "      <td>0</td>\n",
              "      <td>0</td>\n",
              "      <td>0</td>\n",
              "      <td>0</td>\n",
              "      <td>0</td>\n",
              "      <td>0</td>\n",
              "      <td>0</td>\n",
              "      <td>0</td>\n",
              "      <td>0</td>\n",
              "      <td>0</td>\n",
              "      <td>0</td>\n",
              "      <td>0</td>\n",
              "      <td>0</td>\n",
              "      <td>0</td>\n",
              "      <td>0</td>\n",
              "      <td>1</td>\n",
              "      <td>0</td>\n",
              "      <td>0</td>\n",
              "      <td>0</td>\n",
              "      <td>0</td>\n",
              "      <td>0</td>\n",
              "      <td>0</td>\n",
              "      <td>0</td>\n",
              "      <td>0</td>\n",
              "      <td>1</td>\n",
              "      <td>0</td>\n",
              "      <td>0</td>\n",
              "      <td>0</td>\n",
              "      <td>0</td>\n",
              "      <td>1</td>\n",
              "      <td>0</td>\n",
              "      <td>0</td>\n",
              "      <td>0</td>\n",
              "      <td>0</td>\n",
              "      <td>0</td>\n",
              "      <td>1</td>\n",
              "      <td>0</td>\n",
              "      <td>0</td>\n",
              "      <td>0</td>\n",
              "      <td>0</td>\n",
              "      <td>0</td>\n",
              "      <td>0</td>\n",
              "      <td>1</td>\n",
              "      <td>0</td>\n",
              "      <td>0</td>\n",
              "      <td>0</td>\n",
              "      <td>0</td>\n",
              "      <td>0</td>\n",
              "    </tr>\n",
              "    <tr>\n",
              "      <th>755</th>\n",
              "      <td>1</td>\n",
              "      <td>0</td>\n",
              "      <td>0</td>\n",
              "      <td>0</td>\n",
              "      <td>0</td>\n",
              "      <td>0</td>\n",
              "      <td>0</td>\n",
              "      <td>0</td>\n",
              "      <td>0</td>\n",
              "      <td>0</td>\n",
              "      <td>0</td>\n",
              "      <td>0</td>\n",
              "      <td>0</td>\n",
              "      <td>0</td>\n",
              "      <td>0</td>\n",
              "      <td>1</td>\n",
              "      <td>1</td>\n",
              "      <td>0</td>\n",
              "      <td>0</td>\n",
              "      <td>0</td>\n",
              "      <td>0</td>\n",
              "      <td>0</td>\n",
              "      <td>0</td>\n",
              "      <td>0</td>\n",
              "      <td>0</td>\n",
              "      <td>0</td>\n",
              "      <td>0</td>\n",
              "      <td>0</td>\n",
              "      <td>0</td>\n",
              "      <td>0</td>\n",
              "      <td>1</td>\n",
              "      <td>0</td>\n",
              "      <td>0</td>\n",
              "      <td>0</td>\n",
              "      <td>0</td>\n",
              "      <td>0</td>\n",
              "      <td>0</td>\n",
              "      <td>0</td>\n",
              "      <td>0</td>\n",
              "      <td>0</td>\n",
              "      <td>0</td>\n",
              "      <td>0</td>\n",
              "      <td>0</td>\n",
              "      <td>0</td>\n",
              "      <td>1</td>\n",
              "      <td>0</td>\n",
              "      <td>0</td>\n",
              "      <td>0</td>\n",
              "      <td>0</td>\n",
              "      <td>0</td>\n",
              "      <td>0</td>\n",
              "      <td>0</td>\n",
              "      <td>0</td>\n",
              "      <td>1</td>\n",
              "      <td>0</td>\n",
              "      <td>0</td>\n",
              "      <td>0</td>\n",
              "      <td>1</td>\n",
              "      <td>0</td>\n",
              "      <td>0</td>\n",
              "      <td>0</td>\n",
              "      <td>0</td>\n",
              "      <td>0</td>\n",
              "      <td>0</td>\n",
              "      <td>0</td>\n",
              "      <td>0</td>\n",
              "      <td>1</td>\n",
              "      <td>0</td>\n",
              "      <td>0</td>\n",
              "      <td>0</td>\n",
              "      <td>0</td>\n",
              "      <td>1</td>\n",
              "      <td>0</td>\n",
              "      <td>0</td>\n",
              "      <td>0</td>\n",
              "      <td>0</td>\n",
              "      <td>0</td>\n",
              "    </tr>\n",
              "    <tr>\n",
              "      <th>7187</th>\n",
              "      <td>0</td>\n",
              "      <td>0</td>\n",
              "      <td>0</td>\n",
              "      <td>1</td>\n",
              "      <td>0</td>\n",
              "      <td>0</td>\n",
              "      <td>0</td>\n",
              "      <td>0</td>\n",
              "      <td>0</td>\n",
              "      <td>0</td>\n",
              "      <td>1</td>\n",
              "      <td>0</td>\n",
              "      <td>0</td>\n",
              "      <td>0</td>\n",
              "      <td>0</td>\n",
              "      <td>0</td>\n",
              "      <td>0</td>\n",
              "      <td>0</td>\n",
              "      <td>0</td>\n",
              "      <td>0</td>\n",
              "      <td>0</td>\n",
              "      <td>0</td>\n",
              "      <td>0</td>\n",
              "      <td>1</td>\n",
              "      <td>0</td>\n",
              "      <td>1</td>\n",
              "      <td>0</td>\n",
              "      <td>0</td>\n",
              "      <td>0</td>\n",
              "      <td>0</td>\n",
              "      <td>0</td>\n",
              "      <td>0</td>\n",
              "      <td>0</td>\n",
              "      <td>0</td>\n",
              "      <td>0</td>\n",
              "      <td>0</td>\n",
              "      <td>0</td>\n",
              "      <td>0</td>\n",
              "      <td>0</td>\n",
              "      <td>0</td>\n",
              "      <td>0</td>\n",
              "      <td>0</td>\n",
              "      <td>0</td>\n",
              "      <td>0</td>\n",
              "      <td>1</td>\n",
              "      <td>0</td>\n",
              "      <td>0</td>\n",
              "      <td>0</td>\n",
              "      <td>0</td>\n",
              "      <td>0</td>\n",
              "      <td>0</td>\n",
              "      <td>0</td>\n",
              "      <td>0</td>\n",
              "      <td>1</td>\n",
              "      <td>0</td>\n",
              "      <td>0</td>\n",
              "      <td>0</td>\n",
              "      <td>0</td>\n",
              "      <td>0</td>\n",
              "      <td>0</td>\n",
              "      <td>0</td>\n",
              "      <td>0</td>\n",
              "      <td>1</td>\n",
              "      <td>0</td>\n",
              "      <td>0</td>\n",
              "      <td>0</td>\n",
              "      <td>0</td>\n",
              "      <td>0</td>\n",
              "      <td>1</td>\n",
              "      <td>0</td>\n",
              "      <td>1</td>\n",
              "      <td>0</td>\n",
              "      <td>0</td>\n",
              "      <td>0</td>\n",
              "      <td>0</td>\n",
              "      <td>0</td>\n",
              "      <td>0</td>\n",
              "    </tr>\n",
              "    <tr>\n",
              "      <th>7002</th>\n",
              "      <td>0</td>\n",
              "      <td>0</td>\n",
              "      <td>0</td>\n",
              "      <td>1</td>\n",
              "      <td>0</td>\n",
              "      <td>0</td>\n",
              "      <td>0</td>\n",
              "      <td>0</td>\n",
              "      <td>1</td>\n",
              "      <td>0</td>\n",
              "      <td>0</td>\n",
              "      <td>0</td>\n",
              "      <td>0</td>\n",
              "      <td>0</td>\n",
              "      <td>0</td>\n",
              "      <td>0</td>\n",
              "      <td>0</td>\n",
              "      <td>0</td>\n",
              "      <td>0</td>\n",
              "      <td>0</td>\n",
              "      <td>0</td>\n",
              "      <td>0</td>\n",
              "      <td>0</td>\n",
              "      <td>1</td>\n",
              "      <td>0</td>\n",
              "      <td>1</td>\n",
              "      <td>0</td>\n",
              "      <td>0</td>\n",
              "      <td>0</td>\n",
              "      <td>0</td>\n",
              "      <td>0</td>\n",
              "      <td>0</td>\n",
              "      <td>0</td>\n",
              "      <td>0</td>\n",
              "      <td>0</td>\n",
              "      <td>0</td>\n",
              "      <td>0</td>\n",
              "      <td>0</td>\n",
              "      <td>0</td>\n",
              "      <td>0</td>\n",
              "      <td>0</td>\n",
              "      <td>0</td>\n",
              "      <td>0</td>\n",
              "      <td>0</td>\n",
              "      <td>1</td>\n",
              "      <td>0</td>\n",
              "      <td>0</td>\n",
              "      <td>0</td>\n",
              "      <td>0</td>\n",
              "      <td>0</td>\n",
              "      <td>0</td>\n",
              "      <td>0</td>\n",
              "      <td>0</td>\n",
              "      <td>1</td>\n",
              "      <td>0</td>\n",
              "      <td>0</td>\n",
              "      <td>0</td>\n",
              "      <td>0</td>\n",
              "      <td>0</td>\n",
              "      <td>0</td>\n",
              "      <td>0</td>\n",
              "      <td>0</td>\n",
              "      <td>1</td>\n",
              "      <td>0</td>\n",
              "      <td>0</td>\n",
              "      <td>0</td>\n",
              "      <td>0</td>\n",
              "      <td>0</td>\n",
              "      <td>1</td>\n",
              "      <td>0</td>\n",
              "      <td>0</td>\n",
              "      <td>0</td>\n",
              "      <td>0</td>\n",
              "      <td>0</td>\n",
              "      <td>1</td>\n",
              "      <td>0</td>\n",
              "      <td>0</td>\n",
              "    </tr>\n",
              "    <tr>\n",
              "      <th>7324</th>\n",
              "      <td>0</td>\n",
              "      <td>0</td>\n",
              "      <td>0</td>\n",
              "      <td>1</td>\n",
              "      <td>0</td>\n",
              "      <td>0</td>\n",
              "      <td>0</td>\n",
              "      <td>0</td>\n",
              "      <td>0</td>\n",
              "      <td>0</td>\n",
              "      <td>1</td>\n",
              "      <td>0</td>\n",
              "      <td>0</td>\n",
              "      <td>0</td>\n",
              "      <td>0</td>\n",
              "      <td>0</td>\n",
              "      <td>0</td>\n",
              "      <td>0</td>\n",
              "      <td>1</td>\n",
              "      <td>0</td>\n",
              "      <td>0</td>\n",
              "      <td>0</td>\n",
              "      <td>0</td>\n",
              "      <td>0</td>\n",
              "      <td>0</td>\n",
              "      <td>1</td>\n",
              "      <td>0</td>\n",
              "      <td>0</td>\n",
              "      <td>0</td>\n",
              "      <td>0</td>\n",
              "      <td>0</td>\n",
              "      <td>0</td>\n",
              "      <td>0</td>\n",
              "      <td>0</td>\n",
              "      <td>0</td>\n",
              "      <td>0</td>\n",
              "      <td>0</td>\n",
              "      <td>0</td>\n",
              "      <td>0</td>\n",
              "      <td>0</td>\n",
              "      <td>0</td>\n",
              "      <td>0</td>\n",
              "      <td>0</td>\n",
              "      <td>0</td>\n",
              "      <td>1</td>\n",
              "      <td>0</td>\n",
              "      <td>0</td>\n",
              "      <td>0</td>\n",
              "      <td>0</td>\n",
              "      <td>0</td>\n",
              "      <td>0</td>\n",
              "      <td>0</td>\n",
              "      <td>1</td>\n",
              "      <td>0</td>\n",
              "      <td>0</td>\n",
              "      <td>0</td>\n",
              "      <td>0</td>\n",
              "      <td>0</td>\n",
              "      <td>0</td>\n",
              "      <td>0</td>\n",
              "      <td>0</td>\n",
              "      <td>0</td>\n",
              "      <td>1</td>\n",
              "      <td>0</td>\n",
              "      <td>0</td>\n",
              "      <td>0</td>\n",
              "      <td>0</td>\n",
              "      <td>0</td>\n",
              "      <td>1</td>\n",
              "      <td>0</td>\n",
              "      <td>0</td>\n",
              "      <td>0</td>\n",
              "      <td>1</td>\n",
              "      <td>0</td>\n",
              "      <td>0</td>\n",
              "      <td>0</td>\n",
              "      <td>0</td>\n",
              "    </tr>\n",
              "  </tbody>\n",
              "</table>\n",
              "</div>"
            ],
            "text/plain": [
              "      cap_shape_b  cap_shape_c  cap_shape_f  ...  habitat_p  habitat_u  habitat_w\n",
              "1138            0            0            1  ...          0          0          0\n",
              "755             1            0            0  ...          0          0          0\n",
              "7187            0            0            0  ...          0          0          0\n",
              "7002            0            0            0  ...          1          0          0\n",
              "7324            0            0            0  ...          0          0          0\n",
              "\n",
              "[5 rows x 77 columns]"
            ]
          },
          "metadata": {
            "tags": []
          },
          "execution_count": 33
        }
      ]
    },
    {
      "cell_type": "code",
      "metadata": {
        "colab": {
          "base_uri": "https://localhost:8080/"
        },
        "id": "BCakVSlJLpWs",
        "outputId": "3131baa7-07b4-428f-89c1-a11c758b6678"
      },
      "source": [
        "y_train"
      ],
      "execution_count": null,
      "outputs": [
        {
          "output_type": "execute_result",
          "data": {
            "text/plain": [
              "array([0, 0, 1, ..., 1, 1, 1])"
            ]
          },
          "metadata": {
            "tags": []
          },
          "execution_count": 34
        }
      ]
    },
    {
      "cell_type": "markdown",
      "metadata": {
        "id": "RxYbqLNFLrFW"
      },
      "source": [
        "**Baseline Model**"
      ]
    },
    {
      "cell_type": "code",
      "metadata": {
        "colab": {
          "base_uri": "https://localhost:8080/"
        },
        "id": "qJ0YlT3pLtws",
        "outputId": "3abdf0d2-f599-46fe-9e2d-3c5903ddaf91"
      },
      "source": [
        "import numpy as np\r\n",
        "# create baseline model \r\n",
        "def baseline_model(n_predictions, value_to_predict):\r\n",
        "    \"\"\"\r\n",
        "    just predict a single value (e.g. mean) for everything\r\n",
        "    \"\"\"\r\n",
        "    baseline_preds = []\r\n",
        "    for i in range(n_predictions):\r\n",
        "        baseline_preds.append(value_to_predict)\r\n",
        "    return pd.Series(baseline_preds)\r\n",
        "\r\n",
        "n_predictions = len(y_test)  # how many predictions to make?\r\n",
        "baseline_value = np.mean(y_train)  # what value to predict?\r\n",
        "\r\n",
        "baseline_preds = baseline_model(n_predictions, baseline_value)\r\n",
        "baseline_preds"
      ],
      "execution_count": null,
      "outputs": [
        {
          "output_type": "execute_result",
          "data": {
            "text/plain": [
              "0       0.47784\n",
              "1       0.47784\n",
              "2       0.47784\n",
              "3       0.47784\n",
              "4       0.47784\n",
              "         ...   \n",
              "2433    0.47784\n",
              "2434    0.47784\n",
              "2435    0.47784\n",
              "2436    0.47784\n",
              "2437    0.47784\n",
              "Length: 2438, dtype: float64"
            ]
          },
          "metadata": {
            "tags": []
          },
          "execution_count": 35
        }
      ]
    },
    {
      "cell_type": "code",
      "metadata": {
        "id": "kwKQBXQCLuRg"
      },
      "source": [
        "#accuracy_score(y_test, baseline_preds)\r\n",
        "\r\n",
        "#error: classification metrics can't handle a mix of binary and contnuous targets"
      ],
      "execution_count": null,
      "outputs": []
    },
    {
      "cell_type": "code",
      "metadata": {
        "colab": {
          "base_uri": "https://localhost:8080/"
        },
        "id": "jABDJFYVQmkD",
        "outputId": "485fc8ca-ed2c-47c0-f35e-84bf9de287f8"
      },
      "source": [
        "baseline_value = pd.Series(y_train).value_counts().index[0]\r\n",
        "\r\n",
        "baseline_preds = baseline_model(n_predictions, baseline_value)\r\n",
        "accuracy_score(y_test, baseline_preds)"
      ],
      "execution_count": null,
      "outputs": [
        {
          "output_type": "execute_result",
          "data": {
            "text/plain": [
              "0.5082034454470877"
            ]
          },
          "metadata": {
            "tags": []
          },
          "execution_count": 37
        }
      ]
    },
    {
      "cell_type": "markdown",
      "metadata": {
        "id": "_MMPf95XLupB"
      },
      "source": [
        "**Logistic Regression**"
      ]
    },
    {
      "cell_type": "code",
      "metadata": {
        "id": "Le5E8nMPLxUS"
      },
      "source": [
        "from sklearn.linear_model import LogisticRegression\r\n",
        "model = LogisticRegression()"
      ],
      "execution_count": null,
      "outputs": []
    },
    {
      "cell_type": "code",
      "metadata": {
        "colab": {
          "base_uri": "https://localhost:8080/"
        },
        "id": "IUbr_cfgLxWq",
        "outputId": "621996b9-4b3a-45ad-d191-ed4bb3a652e9"
      },
      "source": [
        "model.fit(x_train, y_train)"
      ],
      "execution_count": null,
      "outputs": [
        {
          "output_type": "execute_result",
          "data": {
            "text/plain": [
              "LogisticRegression(C=1.0, class_weight=None, dual=False, fit_intercept=True,\n",
              "                   intercept_scaling=1, l1_ratio=None, max_iter=100,\n",
              "                   multi_class='auto', n_jobs=None, penalty='l2',\n",
              "                   random_state=None, solver='lbfgs', tol=0.0001, verbose=0,\n",
              "                   warm_start=False)"
            ]
          },
          "metadata": {
            "tags": []
          },
          "execution_count": 39
        }
      ]
    },
    {
      "cell_type": "code",
      "metadata": {
        "id": "p71oFTvRLxaZ"
      },
      "source": [
        "pred = model.predict(x_test)"
      ],
      "execution_count": null,
      "outputs": []
    },
    {
      "cell_type": "code",
      "metadata": {
        "colab": {
          "base_uri": "https://localhost:8080/"
        },
        "id": "lVBMUhuYOoyF",
        "outputId": "e7cc8289-d776-4d89-9245-2141e88fa674"
      },
      "source": [
        "accuracy_score(y_test, pred)"
      ],
      "execution_count": null,
      "outputs": [
        {
          "output_type": "execute_result",
          "data": {
            "text/plain": [
              "0.9983593109105825"
            ]
          },
          "metadata": {
            "tags": []
          },
          "execution_count": 41
        }
      ]
    },
    {
      "cell_type": "code",
      "metadata": {
        "colab": {
          "base_uri": "https://localhost:8080/",
          "height": 279
        },
        "id": "fMwehZgTOsXn",
        "outputId": "c7d9d03f-233b-460a-b902-3b0e49247bf9"
      },
      "source": [
        "plot_confusion_matrix(model, x_test, y_test, values_format='');"
      ],
      "execution_count": null,
      "outputs": [
        {
          "output_type": "display_data",
          "data": {
            "image/png": "[encoded data removed]",
            "text/plain": [
              "<Figure size 432x288 with 2 Axes>"
            ]
          },
          "metadata": {
            "tags": [],
            "needs_background": "light"
          }
        }
      ]
    },
    {
      "cell_type": "markdown",
      "metadata": {
        "id": "jLjv6MUNeYrG"
      },
      "source": [
        "**Baseline accuracy is very low 53%, logistic regression accuracy is 99.8%**"
      ]
    }
  ]
}